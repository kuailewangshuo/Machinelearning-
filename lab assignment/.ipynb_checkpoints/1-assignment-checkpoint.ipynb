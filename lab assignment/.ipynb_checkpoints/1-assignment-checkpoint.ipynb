{
 "cells": [
  {
   "cell_type": "markdown",
   "metadata": {},
   "source": [
    "# Assignment 1\n",
    "\n",
    "During this first assignment you will create your own dataset, implement and perform linear regression and investigate its results with different datasets.\n",
    "\n",
    "1. Create datasets, set noise, add outliers, create large/small set\n",
    "2. Perform Least squares with SK learn\n",
    "3. Implement least squares manually\n",
    "4. Bonus\n",
    "\n",
    "Publish your notebook to Machine Learning repository on Github.\n",
    "\n",
    "### Deadline 28 September 23:59\n",
    "\n",
    "Do not hand in any other files, the Notebook should contain all your answers."
   ]
  },
  {
   "cell_type": "code",
   "execution_count": 3,
   "metadata": {
    "collapsed": false
   },
   "outputs": [
    {
     "name": "stdout",
     "output_type": "stream",
     "text": [
      "Populating the interactive namespace from numpy and matplotlib\n"
     ]
    }
   ],
   "source": [
    "%pylab inline "
   ]
  },
  {
   "cell_type": "markdown",
   "metadata": {},
   "source": [
    "# Creating the dataset\n",
    "\n",
    "In order to create the dataset we will use the [scikit-learn](http://scikit-learn.org/) toolkit (install first!). Specifically the [make_regression](http://scikit-learn.org/stable/modules/generated/sklearn.datasets.make_regression.html) function, which generates a dataset that is a good target for regression.\n",
    "\n",
    "## Problem 1\n",
    "Create several different datasets. Vary their sizes, levels of noise and add some outliers.\n",
    "\n",
    "It is only necessary to create them (you can visualize them for yourself, but you don't need to hand this in). You are going to use them in the next problem."
   ]
  },
  {
   "cell_type": "code",
   "execution_count": 4,
   "metadata": {
    "collapsed": false
   },
   "outputs": [
    {
     "data": {
      "text/plain": [
       "[<matplotlib.lines.Line2D at 0x10ce476d0>]"
      ]
     },
     "execution_count": 4,
     "metadata": {},
     "output_type": "execute_result"
    },
    {
     "data": {
      "image/png": "[encoded data removed]",
      "text/plain": [
       "<matplotlib.figure.Figure at 0x10b3ce650>"
      ]
     },
     "metadata": {},
     "output_type": "display_data"
    }
   ],
   "source": [
    "from sklearn.datasets import make_regression\n",
    "\n",
    "noise = 5 #Standard deviation of added Gaussian noise\n",
    "n_samples = 10 #Size of the dataset\n",
    "n_dimensions = 1 #We are doing univariate regression, so leave this at 1\n",
    "(x1,y1) = make_regression(n_samples=n_samples, n_features=n_dimensions, noise=noise)\n",
    "(x1_test,y1_test) = make_regression(n_samples=n_samples, n_features=n_dimensions, noise=noise)\n",
    "\n",
    "plt.plot(x1_test,y1_test,'o')\n",
    "plt.plot(x1,y1,'o')\n",
    "\n",
    "\n",
    "\n",
    "############### More DATASETS\n",
    "\n",
    "# (x2,y2) = "
   ]
  },
  {
   "cell_type": "markdown",
   "metadata": {},
   "source": [
    "# Perform Linear Regression\n",
    "\n",
    "Scikit-learn has an implementation of [Linear Regression](http://scikit-learn.org/stable/modules/generated/sklearn.linear_model.LinearRegression.html). Below you see an example of how to use it.\n",
    "\n",
    "## Problem 2\n",
    "Use the scikit-learn method to fit your own datasets. What is the effect on the score of varying the amount of noise?"
   ]
  },
  {
   "cell_type": "code",
   "execution_count": 3,
   "metadata": {
    "collapsed": false
   },
   "outputs": [
    {
     "name": "stdout",
     "output_type": "stream",
     "text": [
      "0.897601634775\n"
     ]
    },
    {
     "data": {
      "image/png": "[encoded data removed]",
      "text/plain": [
       "<matplotlib.figure.Figure at 0x10b0afb50>"
      ]
     },
     "metadata": {},
     "output_type": "display_data"
    }
   ],
   "source": [
    "from sklearn.linear_model import LinearRegression\n",
    "\n",
    "#The regression object\n",
    "#this code constructs a local version of linear regression\n",
    "regr = LinearRegression()\n",
    "\n",
    "#Fit the regression object on the data\n",
    "regr.fit(x1,y1)\n",
    "\n",
    "#Print the score that the fit has\n",
    "print regr.score(x1_test,y1_test)\n",
    "\n",
    "#Plot the resulting line\n",
    "plt.plot(x1,regr.predict(x1))\n",
    "plt.plot(x1,y1,'o')\n",
    "plt.show()"
   ]
  },
  {
   "cell_type": "markdown",
   "metadata": {},
   "source": [
    "## Your analysis\n",
    "\n",
    "\n",
    "--Just write here--"
   ]
  },
  {
   "cell_type": "code",
   "execution_count": null,
   "metadata": {
    "collapsed": false
   },
   "outputs": [],
   "source": [
    "#Add a serious outlier and see what happens\n",
    "\n",
    "#Example of creating big outlier:\n",
    "x1[-1] = 20 #negative indices begin at the end. So this changes the last values of x1 and y1\n",
    "y1[-1] = 300\n",
    "\n",
    "regr.fit(x1,y1)\n",
    "\n",
    "#Print the score that the fit has\n",
    "print regr.score(x1_test,y1_test)\n",
    "\n",
    "#Plot the resulting line\n",
    "plt.plot(x1,regr.predict(x1))\n",
    "plt.plot(x1,y1,'o')\n",
    "plt.show()\n",
    "#Create a plot that shows how the prediction can be very wrong in the presence of a serious outlier."
   ]
  },
  {
   "cell_type": "markdown",
   "metadata": {},
   "source": [
    "## Problem 3: Implement Linear regression\n",
    "\n",
    "In class you looked at performing regression using gradient descent. Now you are going to implement it.\n",
    "\n",
    "Make sure to comment your code!"
   ]
  },
  {
   "cell_type": "code",
   "execution_count": 7,
   "metadata": {
    "collapsed": false
   },
   "outputs": [],
   "source": [
    "#Make a prediction function h\n",
    "def prediction_function(x,theta0,theta1):\n",
    "\n",
    "    y = theta1*x+theta0\n",
    "    return y\n",
    "\n",
    "        \n",
    "    "
   ]
  },
  {
   "cell_type": "code",
   "execution_count": null,
   "metadata": {
    "collapsed": false
   },
   "outputs": [],
   "source": []
  },
  {
   "cell_type": "code",
   "execution_count": 8,
   "metadata": {
    "collapsed": false
   },
   "outputs": [],
   "source": [
    "#Use the output of that function to compute the cost function J:\n",
    "def cost_function(x_predict,y):\n",
    "   \n",
    "    cost = sum((x_predict-y)**2)/(2*size(y))   \n",
    "    return cost\n",
    "\n",
    "        \n",
    "    \n",
    "    "
   ]
  },
  {
   "cell_type": "code",
   "execution_count": 9,
   "metadata": {
    "collapsed": false
   },
   "outputs": [],
   "source": [
    "#Create a function that returns the gradient values, given h (x_predict), y and x:\n",
    "def compute_gradient(x_predict,y, x):\n",
    "    dtheta0= sum(x_predict-y)/size(y)\n",
    "    dtheta1= sum((x_predict-y)*x)/size(y)\n",
    "    \n",
    "    print(size)\n",
    "\n",
    "    return dtheta0, dtheta1\n",
    "\n",
    "    \n",
    "        "
   ]
  },
  {
   "cell_type": "code",
   "execution_count": 14,
   "metadata": {
    "collapsed": false
   },
   "outputs": [
    {
     "data": {
      "image/png": "[encoded data removed]",
      "text/plain": [
       "<matplotlib.figure.Figure at 0x110957d10>"
      ]
     },
     "metadata": {},
     "output_type": "display_data"
    },
    {
     "data": {
      "image/png": "[encoded data removed]",
      "text/plain": [
       "<matplotlib.figure.Figure at 0x10f90bc90>"
      ]
     },
     "metadata": {},
     "output_type": "display_data"
    },
    {
     "data": {
      "text/plain": [
       "[<matplotlib.lines.Line2D at 0x110acba50>]"
      ]
     },
     "execution_count": 14,
     "metadata": {},
     "output_type": "execute_result"
    },
    {
     "data": {
      "image/png": "[encoded data removed]",
      "text/plain": [
       "<matplotlib.figure.Figure at 0x1108905d0>"
      ]
     },
     "metadata": {},
     "output_type": "display_data"
    }
   ],
   "source": [
    "#These are some default parameters, see how playing with them affects the behavior\n",
    "\n",
    "alpha = 0.01\n",
    "theta0 =0\n",
    "theta1 =1\n",
    "x = x1\n",
    "y = y1\n",
    "iterations = 100\n",
    "#Fill in the stopcondition yourself\n",
    "stopcondition = 2\n",
    "\n",
    "i = 0\n",
    "cost = 10\n",
    "costy=[]\n",
    "\n",
    "#Try to save the output of the cost function at each iteration and plot it at the end\n",
    "while (i < iterations) and (cost > stopcondition):\n",
    "\n",
    "    x_predict =prediction_function(x,theta0,theta1)\n",
    "    theta0=theta0-alpha*compute_gradient(x_predict,y, x)[0]\n",
    "    theta1=theta1-alpha*compute_gradient(x_predict,y, x)[1]\n",
    "    cost=cost_function(x_predict,y)\n",
    "    costy.append(cost)\n",
    "    i = i +1\n",
    "\n",
    "plt.plot(x,prediction_function(x,theta0,theta1))\n",
    "plt.show()\n",
    "plt.plot(x,y,'o')\n",
    "plt.show()\n",
    "plt.plot(range(1,101),costy)\n",
    "\n",
    "\n",
    "\n",
    "\n"
   ]
  },
  {
   "cell_type": "markdown",
   "metadata": {},
   "source": [
    "## Problem 4\n",
    "\n",
    "Write a short analysis about the amount of iterations necessary to obtain a good result, the influence of the learning rate and the trend of the cost function. "
   ]
  },
  {
   "cell_type": "code",
   "execution_count": null,
   "metadata": {
    "collapsed": true
   },
   "outputs": [],
   "source": [
    "For this particular case, cost funtions start to stabilize after around 20 iterations, but it really depends on the \n",
    "learning rate, sample size, etc. If the learning rates are too big, it will cause the cost function to increase instead\n",
    "of decreasing. The trend of the cost function consists of rapid decrease at the beginning and eventual stabiliation. "
   ]
  },
  {
   "cell_type": "markdown",
   "metadata": {},
   "source": [
    "# Bonus Problem: Implement Least Squares with closed form solution\n",
    "\n",
    "For the Least Squares method there is also a closed-form solution.\n",
    "\n",
    "$\\theta_1$ can be found by:\n",
    "$$ \\boldsymbol{\\hat\\theta_1} =( X ^TX)^{-1}X^{T}\\boldsymbol y $$\n",
    "\n",
    "You can leave $\\theta_0$ to be 0. Make a plot with your data as dots and your prediction as a line."
   ]
  }
 ],
 "metadata": {
  "anaconda-cloud": {},
  "kernelspec": {
   "display_name": "Python [Root]",
   "language": "python",
   "name": "Python [Root]"
  },
  "language_info": {
   "codemirror_mode": {
    "name": "ipython",
    "version": 2
   },
   "file_extension": ".py",
   "mimetype": "text/x-python",
   "name": "python",
   "nbconvert_exporter": "python",
   "pygments_lexer": "ipython2",
   "version": "2.7.12"
  }
 },
 "nbformat": 4,
 "nbformat_minor": 0
}
