{
 "cells": [
  {
   "cell_type": "markdown",
   "metadata": {
    "raw_mimetype": "text/markdown"
   },
   "source": [
    "# Lab Assignment 2\n",
    "\n",
    "In the third assignment you will classify hand-written digits using logistic regression.\n",
    "\n",
    "The assignment follows Andrew Ng's explanation of Logistic Regression and (re)watching his videos could be useful (Week 3)\n",
    "\n",
    "Publish your notebook (ipynb file) to your Machine Learning () repository on Github.\n",
    "\n",
    "### Deadline October 26th, 23:59\n",
    "\n",
    "Do not hand in any other files, the Notebook should contain all your answers."
   ]
  },
  {
   "cell_type": "code",
   "execution_count": 102,
   "metadata": {
    "collapsed": false
   },
   "outputs": [
    {
     "name": "stdout",
     "output_type": "stream",
     "text": [
      "Populating the interactive namespace from numpy and matplotlib\n"
     ]
    }
   ],
   "source": [
    "%pylab inline"
   ]
  },
  {
   "cell_type": "markdown",
   "metadata": {},
   "source": [
    "Scikit-learn has the dataset built in. The dataset contains images of hand-written digits that are only 8 by 8 pixels, which means the algorithm (logistic regression) should run on every computer.\n",
    "\n",
    "The code in the following cell shows how to work with the digits dataset and  how to visualize it. As you can see the numbers are not very clear in 8x8 pixels images, this means we cannot expect our logistic regression will have a very high classification score."
   ]
  },
  {
   "cell_type": "code",
   "execution_count": 103,
   "metadata": {
    "collapsed": false
   },
   "outputs": [
    {
     "name": "stdout",
     "output_type": "stream",
     "text": [
      "The numbers shown are: \n",
      "[[0 1 2 3 4]\n",
      " [5 6 7 8 9]]\n"
     ]
    },
    {
     "data": {
      "image/png": "[encoded data removed]",
      "text/plain": [
       "<matplotlib.figure.Figure at 0x10edf7ad0>"
      ]
     },
     "metadata": {},
     "output_type": "display_data"
    }
   ],
   "source": [
    "from sklearn.datasets import load_digits\n",
    "\n",
    "digits = load_digits(n_class=10)\n",
    "\n",
    "#Create two rows with numbers\n",
    "firstrow = np.hstack(digits.images[:5,:,:])\n",
    "secondrow = np.hstack(digits.images[5:10,:,:])\n",
    "\n",
    "plt.gray()\n",
    "plt.axis('off')\n",
    "\n",
    "#Show both rows at the same time\n",
    "plt.imshow(np.vstack((firstrow,secondrow)))\n",
    "\n",
    "\n",
    "print \"The numbers shown are: \\n\", np.vstack((digits.target[:5], digits.target[5:10]))"
   ]
  },
  {
   "cell_type": "markdown",
   "metadata": {},
   "source": [
    "## The implementation\n",
    "\n",
    "You have to implement the next three functions and fill in the body of the loop in order to create a correct implementation of logistic regression. Don't change the definitions of the functions and input parameters.\n",
    "\n",
    "Make sure that you do not overfit by keeping track of the score on the test set and implementing a correct stop condition. Also pick a learning rate alpha that makes sure the algorithm learns in a smooth and stable manner.\n",
    "\n",
    "Plot how your score on the test set improves over time. My best score was about 85% correct!\n",
    "\n",
    "Make sure to comment your code."
   ]
  },
  {
   "cell_type": "code",
   "execution_count": 1,
   "metadata": {
    "collapsed": false
   },
   "outputs": [
    {
     "ename": "NameError",
     "evalue": "name 'load_digits' is not defined",
     "output_type": "error",
     "traceback": [
      "\u001b[0;31m---------------------------------------------------------------------------\u001b[0m",
      "\u001b[0;31mNameError\u001b[0m                                 Traceback (most recent call last)",
      "\u001b[0;32m<ipython-input-1-ab9cf3906c1f>\u001b[0m in \u001b[0;36m<module>\u001b[0;34m()\u001b[0m\n\u001b[0;32m----> 1\u001b[0;31m \u001b[0mdigits\u001b[0m \u001b[0;34m=\u001b[0m \u001b[0mload_digits\u001b[0m\u001b[0;34m(\u001b[0m\u001b[0mn_class\u001b[0m\u001b[0;34m=\u001b[0m\u001b[0;36m10\u001b[0m\u001b[0;34m)\u001b[0m\u001b[0;34m\u001b[0m\u001b[0m\n\u001b[0m\u001b[1;32m      2\u001b[0m \u001b[0;32mprint\u001b[0m \u001b[0;34m(\u001b[0m\u001b[0mdigits\u001b[0m\u001b[0;34m.\u001b[0m\u001b[0mimages\u001b[0m\u001b[0;34m[\u001b[0m\u001b[0;34m:\u001b[0m\u001b[0;36m1500\u001b[0m\u001b[0;34m]\u001b[0m\u001b[0;34m.\u001b[0m\u001b[0mshape\u001b[0m\u001b[0;34m)\u001b[0m\u001b[0;34m\u001b[0m\u001b[0m\n\u001b[1;32m      3\u001b[0m \u001b[0;34m\u001b[0m\u001b[0m\n\u001b[1;32m      4\u001b[0m \u001b[0;32mprint\u001b[0m \u001b[0mdigits\u001b[0m\u001b[0;34m.\u001b[0m\u001b[0mimages\u001b[0m\u001b[0;34m.\u001b[0m\u001b[0mshape\u001b[0m\u001b[0;34m\u001b[0m\u001b[0m\n\u001b[1;32m      5\u001b[0m \u001b[0;34m\u001b[0m\u001b[0m\n",
      "\u001b[0;31mNameError\u001b[0m: name 'load_digits' is not defined"
     ]
    }
   ],
   "source": [
    "digits = load_digits(n_class=10)\n",
    "print (digits.images[:1500].shape)\n",
    "\n",
    "print digits.images.shape\n",
    "\n",
    "\n",
    "digits.images()\n",
    "\n"
   ]
  },
  {
   "cell_type": "code",
   "execution_count": 138,
   "metadata": {
    "collapsed": false
   },
   "outputs": [],
   "source": [
    "#Make a prediction function h\n",
    "import numpy as np\n",
    "numpy.seterr(all=\"ignore\",over=\"ignore\")\n",
    "\n",
    "def prediction_function(x,theta):\n",
    "    trans = theta.transpose()\n",
    "    x=x.transpose()\n",
    "    y= np.zeros(10)\n",
    "    for i in range(0,9):\n",
    "        y[i]=1/(1+np.power(e,(-np.dot(trans[i,],x))))\n",
    "    \n",
    "   \n",
    "           \n",
    "           \n",
    "    return y\n",
    "\n",
    "\n"
   ]
  },
  {
   "cell_type": "code",
   "execution_count": 139,
   "metadata": {
    "collapsed": false
   },
   "outputs": [],
   "source": [
    "#Use the output of that function to compute the cost function J:\n",
    "def compute_gradient(x_predict, y, x):\n",
    "    \n",
    "    h=x_predict-y\n",
    "    h=np.mat(h)\n",
    "    h=h.T\n",
    "    x=np.mat(x)\n",
    "    a= np.dot(h,x)\n",
    "\n",
    "\n",
    "    return sum(a)\n",
    "\n",
    "\n",
    "\n"
   ]
  },
  {
   "cell_type": "code",
   "execution_count": 140,
   "metadata": {
    "collapsed": false
   },
   "outputs": [],
   "source": [
    "#Create a function that returns the gradient values, given h (x_predict), y and x:\n",
    "\n",
    "def compute_gradient(x_predict, y, x):\n",
    "    \n",
    "    x_predict=np.mat(x_predict)\n",
    "    y=np.mat(y)\n",
    "    x=np.mat(x)\n",
    "    grad= sum(np.dot((x_predict-y).T,x)/size(y))\n",
    "\n",
    "\n",
    "    return grad\n",
    "\n"
   ]
  },
  {
   "cell_type": "code",
   "execution_count": 142,
   "metadata": {
    "collapsed": false
   },
   "outputs": [
    {
     "name": "stdout",
     "output_type": "stream",
     "text": [
      "52.1885521886\n"
     ]
    }
   ],
   "source": [
    "#Choose a suitable learning rate\n",
    "alpha = 0.01\n",
    "import numpy as np\n",
    "iterations = 25\n",
    "theta = np.zeros((64,10))\n",
    "theta=np.mat(theta)\n",
    "stopcondition =0\n",
    "\n",
    "\n",
    "\n",
    "#It is important to check that you're not overfitting by testing your prediction on a testset\n",
    "x = np.reshape(digits.images[:1500],(1500,64))\n",
    "x_test = np.reshape(digits.images[1500:],(297,64))\n",
    "\n",
    "target = digits.target[:1500]\n",
    "target_test = digits.target[1500:]\n",
    "\n",
    "#test\n",
    "\n",
    "totalcost=0\n",
    "i=1\n",
    "for j in range(x_test.shape[0]):#for each 297 subjects\n",
    "    cost= 10\n",
    "    y = np.zeros(10)        \n",
    "    y[target_test[j]] = 1\n",
    "    costy=[]\n",
    "    i=1\n",
    "    while i< iterations :\n",
    "        x_predict = prediction_function(x_test[j,:],theta)\n",
    "        theta=theta-alpha*compute_gradient(x_predict,y, x_test[j,:])#updating theta\n",
    "        cost=x_predict[target_test[j]]-1#calculating difference\n",
    "        costy.append(cost)\n",
    "        i+=1\n",
    "    if max(costy)==0:#if the function correctly identify the number\n",
    "        totalcost+=1#number of times out of total subjects, the correct number is identified \n",
    "            \n",
    "costper=100 * float(totalcost)/float(297)\n",
    "\n",
    "print costper\n",
    "\n",
    "\n",
    "\n",
    "\n",
    "\n",
    "\n",
    "\n",
    "            \n",
    "\n",
    "\n",
    "        \n",
    "\n",
    "\n",
    "\n",
    "\n",
    "        \n",
    "\n",
    "        \n",
    "#         cost_function(x_predict,y)\n",
    "    \n",
    "# #In Andrew Ng's presentation he says that y needs to be 1 or 0.\n",
    "# #You can use the following example code in the inner loop of your implementation\n",
    "# y = np.zeros(10) #First create a y vector with only zeros\n",
    "# y[target[j]] = 1 #Then set the right class equal to 1"
   ]
  },
  {
   "cell_type": "code",
   "execution_count": 144,
   "metadata": {
    "collapsed": false
   },
   "outputs": [
    {
     "name": "stdout",
     "output_type": "stream",
     "text": [
      "59.2666666667\n"
     ]
    }
   ],
   "source": [
    "#Choose a suitable learning rate\n",
    "alpha = 0.01\n",
    "import numpy as np\n",
    "iterations = 25\n",
    "theta = np.zeros((64,10))\n",
    "theta=np.mat(theta)\n",
    "\n",
    "\n",
    "\n",
    "\n",
    "#It is important to check that you're not overfitting by testing your prediction on a testset\n",
    "x = np.reshape(digits.images[:1500],(1500,64))\n",
    "x_test = np.reshape(digits.images[1500:],(297,64))\n",
    "\n",
    "target = digits.target[:1500]\n",
    "target_test = digits.target[1500:]\n",
    "\n",
    "#application\n",
    "\n",
    "totalcost=0\n",
    "\n",
    "\n",
    "\n",
    "for j in range(x.shape[0]):\n",
    "    cost= 10\n",
    "    y = np.zeros(10)        \n",
    "    y[target[j]] = 1\n",
    "    costy=[]\n",
    "    i=1\n",
    "    while i< iterations :\n",
    "        x_predict = prediction_function(x[j,:],theta)\n",
    "        theta=theta-alpha*compute_gradient(x_predict,y, x[j,:])#updating theta\n",
    "        cost=x_predict[target[j]]-1#calculating difference\n",
    "        costy.append(cost)\n",
    "        i+=1\n",
    "    if max(costy)==0:#if the function correctly identify the number\n",
    "        totalcost+=1#number of times out of total subjects, the correct number is identified\n",
    "    \n",
    "        \n",
    "costper=100 * float(totalcost)/float(1500)\n",
    "\n",
    "print costper\n",
    "\n"
   ]
  },
  {
   "cell_type": "code",
   "execution_count": null,
   "metadata": {
    "collapsed": true
   },
   "outputs": [],
   "source": []
  }
 ],
 "metadata": {
  "anaconda-cloud": {},
  "celltoolbar": "Raw Cell Format",
  "kernelspec": {
   "display_name": "Python [Root]",
   "language": "python",
   "name": "Python [Root]"
  },
  "language_info": {
   "codemirror_mode": {
    "name": "ipython",
    "version": 2
   },
   "file_extension": ".py",
   "mimetype": "text/x-python",
   "name": "python",
   "nbconvert_exporter": "python",
   "pygments_lexer": "ipython2",
   "version": "2.7.12"
  }
 },
 "nbformat": 4,
 "nbformat_minor": 0
}
