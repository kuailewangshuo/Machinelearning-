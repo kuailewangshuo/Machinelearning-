{
 "cells": [
  {
   "cell_type": "markdown",
   "metadata": {},
   "source": [
    "# Introduction\n",
    "\n",
    "In this session we will get familiar with Python, the iPython notebook (IPYNB) and some useful numeric/plotting libraries\n",
    "\n",
    "An IPYNB is built up from cells (also known as segments or blocks), there exists several kinds of cells. This is a \"markdown\" cell and the next cell is a code cell.\n",
    "\n",
    "In the next cell three libraries are imported in one go: Numpy, Scipy and Matplotlib.\n",
    "\n",
    "* The main functionality of Numpy is arrays, which represent vectors and matrices. These can be used for doing all sorts of computations. Numpy functions can be accessed with the prefix np.\n",
    "\n",
    "* Scipy is a large scientific library for all sorts of more advanced functions. Such as automatic optimization, sampling from many different probability distributions and automatically solving Differential Equations. In short, you will likely not use it during this course, but it might be useful for the future. Scipy functions can be accessed with the prefix sp.\n",
    "\n",
    "* With Matplotlib it becomes trivial to make all sorts of visualizations. Matplotlib functions can be accessed with the prefix plt."
   ]
  },
  {
   "cell_type": "code",
   "execution_count": 2,
   "metadata": {
    "collapsed": false
   },
   "outputs": [
    {
     "name": "stdout",
     "output_type": "stream",
     "text": [
      "Populating the interactive namespace from numpy and matplotlib\n"
     ]
    }
   ],
   "source": [
    "#Select this cell and press shift+enter or the play arrow to run it\n",
    "%pylab inline\n",
    "\n",
    "#Pylab includes numpy, scipy and matplotlib\n",
    "#The 'inline' is necessary for plots to show up inside the IPYNB"
   ]
  },
  {
   "cell_type": "markdown",
   "metadata": {},
   "source": [
    "Let's start by exploring several basic Numpy functions:"
   ]
  },
  {
   "cell_type": "code",
   "execution_count": 3,
   "metadata": {
    "collapsed": false
   },
   "outputs": [
    {
     "data": {
      "text/plain": [
       "[<matplotlib.lines.Line2D at 0x10d82ec50>]"
      ]
     },
     "execution_count": 3,
     "metadata": {},
     "output_type": "execute_result"
    },
    {
     "data": {
      "image/png": "[encoded data removed]",
      "text/plain": [
       "<matplotlib.figure.Figure at 0x10b3bd2d0>"
      ]
     },
     "metadata": {},
     "output_type": "display_data"
    }
   ],
   "source": [
    "#The function np.array, creates a Numpy array from a list.\n",
    "vector_x = np.array([0,1,2,3,4,5])\n",
    "vector_y = np.array([0,0.1,0.2,0.3,0.4,0.5])\n",
    "\n",
    "plt.plot(vector_x,vector_y,'o')"
   ]
  },
  {
   "cell_type": "code",
   "execution_count": 4,
   "metadata": {
    "collapsed": false
   },
   "outputs": [
    {
     "data": {
      "text/plain": [
       "[<matplotlib.lines.Line2D at 0x10deaa490>]"
      ]
     },
     "execution_count": 4,
     "metadata": {},
     "output_type": "execute_result"
    },
    {
     "data": {
      "image/png": "[encoded data removed]",
      "text/plain": [
       "<matplotlib.figure.Figure at 0x10b3aaed0>"
      ]
     },
     "metadata": {},
     "output_type": "display_data"
    }
   ],
   "source": [
    "#To get a line, leave out the 'o' parameter\n",
    "plt.plot(vector_x,vector_y)"
   ]
  },
  {
   "cell_type": "code",
   "execution_count": 14,
   "metadata": {
    "collapsed": false
   },
   "outputs": [
    {
     "name": "stdout",
     "output_type": "stream",
     "text": [
      "[0 1 2 3 4 5]\n",
      "[ 0.   0.1  0.2  0.3  0.4  0.5]\n"
     ]
    },
    {
     "data": {
      "text/plain": [
       "[<matplotlib.lines.Line2D at 0x10e5378d0>]"
      ]
     },
     "execution_count": 14,
     "metadata": {},
     "output_type": "execute_result"
    },
    {
     "data": {
      "image/png": "[encoded data removed]",
      "text/plain": [
       "<matplotlib.figure.Figure at 0x10e4f4190>"
      ]
     },
     "metadata": {},
     "output_type": "display_data"
    }
   ],
   "source": [
    "#In order to create a vector with a range of numbers, use arange:\n",
    "vector2 = np.arange(0,6)\n",
    "vector3 = np.arange(0,0.6,0.1)\n",
    "print vector2 #Mind that the number 6 is excluded and that there are 6 items in the vector2\n",
    "print vector3\n",
    "\n",
    "plt.plot(vector2,vector3,'o')\n",
    "#Notice anything special about this plot in comparison to the last plot?"
   ]
  },
  {
   "cell_type": "code",
   "execution_count": 6,
   "metadata": {
    "collapsed": false
   },
   "outputs": [
    {
     "name": "stdout",
     "output_type": "stream",
     "text": [
      "6\n"
     ]
    }
   ],
   "source": [
    "print vector2.size #The number of elements in the vector"
   ]
  },
  {
   "cell_type": "code",
   "execution_count": 34,
   "metadata": {
    "collapsed": false
   },
   "outputs": [
    {
     "name": "stdout",
     "output_type": "stream",
     "text": [
      "(6,)\n",
      "[[ 0  1  2  3  4]\n",
      " [ 5  6  7  8  9]\n",
      " [10 11 12 13 14]\n",
      " [15 16 17 18 19]]\n",
      "(4, 5)\n"
     ]
    }
   ],
   "source": [
    "vector4 = np.arange(0,20)\n",
    "print vector2.shape #The shape of the vector\n",
    "\n",
    "matrix1 = vector4.reshape(4,5) #Reshape the vector in a matrix form\n",
    "print matrix1\n",
    "print matrix1.shape"
   ]
  },
  {
   "cell_type": "code",
   "execution_count": null,
   "metadata": {
    "collapsed": false
   },
   "outputs": [],
   "source": [
    "# the number 6 (or more generally the (2,2)-element of the matrix) is accessed by the\n",
    "# following command. The first 1 specifies the row number the second 1 specifies the\n",
    "# column number\n",
    "print(matrix1[1,1])"
   ]
  },
  {
   "cell_type": "code",
   "execution_count": null,
   "metadata": {
    "collapsed": false
   },
   "outputs": [],
   "source": [
    "#Transposing a matrix is done by:\n",
    "print matrix1.T"
   ]
  },
  {
   "cell_type": "code",
   "execution_count": null,
   "metadata": {
    "collapsed": false
   },
   "outputs": [],
   "source": [
    "# One thing about standard arithmetic operations: they apply element-wise to the elements\n",
    "# of a matrix. Here you see squaring.\n",
    "print(matrix1**2)"
   ]
  },
  {
   "cell_type": "code",
   "execution_count": null,
   "metadata": {
    "collapsed": false
   },
   "outputs": [],
   "source": [
    "# Matrix multiplication is done using the dot() function\n",
    "print \"First option \\n\",np.dot(matrix1,matrix1.T)\n",
    "# This also works:\n",
    "print \"Second option \\n\",matrix1.dot(matrix1.T)\n",
    "# It gives the same result"
   ]
  },
  {
   "cell_type": "code",
   "execution_count": null,
   "metadata": {
    "collapsed": false
   },
   "outputs": [],
   "source": [
    "# To obtain the inverse of a matrix use the following. Note that not all matrices are\n",
    "# invertible. However, pinv() will give you a pseudo-inverse that is obtainable for all\n",
    "# matrices. Hence this operation will always succeed.\n",
    "print(np.linalg.pinv(matrix1))"
   ]
  },
  {
   "cell_type": "code",
   "execution_count": null,
   "metadata": {
    "collapsed": false
   },
   "outputs": [],
   "source": [
    "# Likewise you can get the determinant of a square matrix. However, there is nothing\n",
    "# like a pseudo-determinant and hence this function works only on square matrices.\n",
    "\n",
    "matrix2 = [[1,2,3],[4,5,6],[8,9,10]]\n",
    "print(np.linalg.det(matrix2))"
   ]
  },
  {
   "cell_type": "code",
   "execution_count": null,
   "metadata": {
    "collapsed": false
   },
   "outputs": [],
   "source": [
    "# It will often come in handy to sum over the elements of a vector. This is what the\n",
    "# sum() function is for.\n",
    "print(vector2.sum())\n",
    "\n",
    "#But this also works!\n",
    "print(sum(vector2))"
   ]
  },
  {
   "cell_type": "code",
   "execution_count": null,
   "metadata": {
    "collapsed": false
   },
   "outputs": [],
   "source": [
    "# The same can be done with matrices. To sum over the columns use the argument 0. To sum\n",
    "# over rows use the argument 1. If no argument is specified, the sum over all array\n",
    "# elements will be calculated. \n",
    "print(matrix1.sum())\n",
    "print(matrix1.sum(0))\n",
    "print(matrix1.sum(1))"
   ]
  },
  {
   "cell_type": "code",
   "execution_count": null,
   "metadata": {
    "collapsed": false
   },
   "outputs": [],
   "source": [
    "# Now instead of taking the sum of vector, you usually want to obtain its mean.\n",
    "print(vector2.mean())"
   ]
  },
  {
   "cell_type": "code",
   "execution_count": null,
   "metadata": {
    "collapsed": false
   },
   "outputs": [],
   "source": [
    "# There is also a similar operation for matrices,\n",
    "print(matrix1.mean())\n",
    "print(matrix1.mean(0))\n",
    "print(matrix1.mean(1))"
   ]
  },
  {
   "cell_type": "markdown",
   "metadata": {},
   "source": [
    "# Part 2\n",
    "\n",
    "These are the basics. Practice the above functions by trying out the following exercises.\n",
    "\n",
    "* plot $y = x^2$ for $x \\in [-10,10]$\n",
    "    - This means creating a vector x, creating a vector y which is x squared and then plotting x,y\n",
    "* plot a normal distribution, look up the formula\n",
    "* Sample many times from a [normal distribution](http://docs.scipy.org/doc/numpy/reference/generated/numpy.random.normal.html) and plot these as dots\n",
    "* Take your last plot and try to form it into a histogrm\n",
    "* Combine the histogram and the normal distribution in one plot\n",
    "\n",
    "If you get stuck you have several options:\n",
    "* look up [numpy](http://docs.scipy.org/doc/numpy/search.html) and [matplotlib](http://matplotlib.org/search.html) functions\n",
    "* __ask Google__, lots of people use these packages so many questions have been asked before!\n",
    "* ask your neighbor\n",
    "* ask your teachers\n",
    "\n",
    "Create a new cell by pressing \"insert\" choosing \"insert below\""
   ]
  },
  {
   "cell_type": "code",
   "execution_count": 25,
   "metadata": {
    "collapsed": false
   },
   "outputs": [
    {
     "name": "stdout",
     "output_type": "stream",
     "text": [
      "Populating the interactive namespace from numpy and matplotlib\n",
      "[-10  -9  -8  -7  -6  -5  -4  -3  -2  -1   0   1   2   3   4   5   6   7\n",
      "   8   9]\n",
      "[100  81  64  49  36  25  16   9   4   1   0   1   4   9  16  25  36  49\n",
      "  64  81]\n"
     ]
    },
    {
     "data": {
      "text/plain": [
       "[<matplotlib.lines.Line2D at 0x10eacec90>]"
      ]
     },
     "execution_count": 25,
     "metadata": {},
     "output_type": "execute_result"
    },
    {
     "data": {
      "image/png": "[encoded data removed]",
      "text/plain": [
       "<matplotlib.figure.Figure at 0x10f38d8d0>"
      ]
     },
     "metadata": {},
     "output_type": "display_data"
    }
   ],
   "source": [
    "%pylab inline\n",
    "\n",
    "vectorx = np.arange(-10,10)\n",
    "vectory = np.square(vectorx)\n",
    "print vectorx #Mind that the number 6 is excluded and that there are 6 items in the vector2\n",
    "print vectory\n",
    "\n",
    "plt.plot(vectorx,vectory,'o')\n",
    "\n",
    "\n"
   ]
  },
  {
   "cell_type": "code",
   "execution_count": 66,
   "metadata": {
    "collapsed": false
   },
   "outputs": [
    {
     "data": {
      "image/png": "[encoded data removed]",
      "text/plain": [
       "<matplotlib.figure.Figure at 0x110e0e990>"
      ]
     },
     "metadata": {},
     "output_type": "display_data"
    }
   ],
   "source": [
    "\n",
    "mu = 0\n",
    "variance = 1\n",
    "sigma = math.sqrt(variance)\n",
    "#x = np.linspace(-3, 3, 100)\n",
    "x=np.arange(-10,10)\n",
    "plt.plot(x,1/(sigma * np.sqrt(2 * np.pi)) * np.exp( - (x - mu)**2 / (2 * sigma**2) )) \n",
    "#plt.plot(x,y,'o')\n",
    "s = np.random.normal(mu, sigma, 1000)\n",
    "plt.hist(s,30,normed=True )\n",
    "#plt.hist(y, 20, normed=True)\n",
    "#plt.hist(y)\n",
    "plt.show()\n",
    "\n"
   ]
  },
  {
   "cell_type": "code",
   "execution_count": null,
   "metadata": {
    "collapsed": true
   },
   "outputs": [],
   "source": []
  }
 ],
 "metadata": {
  "anaconda-cloud": {},
  "kernelspec": {
   "display_name": "Python [Root]",
   "language": "python",
   "name": "Python [Root]"
  },
  "language_info": {
   "codemirror_mode": {
    "name": "ipython",
    "version": 2
   },
   "file_extension": ".py",
   "mimetype": "text/x-python",
   "name": "python",
   "nbconvert_exporter": "python",
   "pygments_lexer": "ipython2",
   "version": "2.7.12"
  }
 },
 "nbformat": 4,
 "nbformat_minor": 0
}
